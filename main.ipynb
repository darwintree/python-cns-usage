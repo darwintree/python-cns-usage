{
 "cells": [
  {
   "cell_type": "code",
   "execution_count": null,
   "metadata": {},
   "outputs": [],
   "source": [
    "from conflux_web3.dev import get_testnet_web3\n",
    "from cns import CNS\n",
    "from conflux_web3.types import Drip\n",
    "from ens.utils import raw_name_to_hash\n",
    "from hexbytes import HexBytes\n",
    "from typing import get_type_hints\n",
    "from uuid import uuid4\n",
    "import time\n",
    "import os\n",
    "\n"
   ]
  },
  {
   "cell_type": "code",
   "execution_count": null,
   "metadata": {},
   "outputs": [],
   "source": [
    "# initialize variables\n",
    "w3 = get_testnet_web3()\n",
    "sk = os.environ.get(\"TESTNET_SECRET\", None)\n",
    "if sk:\n",
    "    account = w3.account.from_key(sk)\n",
    "    w3.cfx.default_account = account\n",
    "else:\n",
    "    account = w3.account.create()\n",
    "    w3.cfx.default_account = account\n",
    "    faucet = w3.cfx.contract(name=\"Faucet\")\n",
    "    faucet.functions.claimCfx().transact().executed()"
   ]
  },
  {
   "cell_type": "code",
   "execution_count": null,
   "metadata": {},
   "outputs": [],
   "source": [
    "ens_registry = w3.cns.ens\n",
    "controller = w3.cfx.contract(address=\"cfxtest:acgeyhvevvs2y2ppgtkhckn4sghwe4n4se734ed7tn\", name=\"ETHRegistrarController\")\n",
    "wrapper = w3.cfx.contract(\"cfxtest:acd72jvhy174x6rs8azsjfvbp7brfvm4fenn0yk9c4\", name=\"NameWrapper\")\n",
    "resolver = w3.cfx.contract(\"cfxtest:acahw54guhthk9778mxxk5jkn1pjfzbuz6xs73hcb4\", name=\"RESOLVER\")"
   ]
  },
  {
   "cell_type": "code",
   "execution_count": null,
   "metadata": {},
   "outputs": [],
   "source": [
    "# register a random domain using web3controller\n",
    "ens_name = str(uuid4())\n",
    "duration = 60 * 60 * 24 * 30 * 12\n",
    "secret = w3.keccak(text=\"114514\")\n",
    "# resolver = w3.cfx.address.zero_address(1)\n",
    "resolver_address = resolver.address\n",
    "data = []\n",
    "fuses = 0\n",
    "wrapperExpiry = 2**64-1\n",
    "reverse = False\n",
    "\n",
    "commitment = controller.functions.makeCommitment(\n",
    "    ens_name, str(account.address), duration, secret, resolver_address, data, reverse, fuses, wrapperExpiry\n",
    ").call()\n",
    "price = Drip(controller.caller.rentPrice(ens_name, 60 * 60 * 24 * 30 * 12)[0]).to(\"CFX\") + 20\n",
    "receipt = controller.functions.commit(commitment).transact().executed()\n",
    "time.sleep(130)\n",
    "try:\n",
    "    controller.functions.register(\n",
    "        ens_name, str(account.address), duration, secret, resolver_address, data, reverse, fuses, wrapperExpiry\n",
    "    ).transact({\n",
    "        \"value\": price,\n",
    "    }).executed()\n",
    "    print(f\"name {ens_name}.web3 is registered\")\n",
    "except Exception as e:\n",
    "    print(e)"
   ]
  },
  {
   "cell_type": "code",
   "execution_count": null,
   "metadata": {},
   "outputs": [],
   "source": [
    "registered_name = f\"{ens_name}.web3\"\n",
    "print(f\"raw owner: {w3.cns.owner(registered_name)}\")\n",
    "print(f\"owner from name wrapper: {w3.cns.owner(registered_name, wrapped=True)}\")"
   ]
  },
  {
   "cell_type": "code",
   "execution_count": null,
   "metadata": {},
   "outputs": [],
   "source": [
    "# cns write apis are still unstable, it is recommended to interact with the contracts\n",
    "print(f\"Resolve {registered_name}: {w3.cns.address(registered_name)}\")\n",
    "resolver.functions.setAddr(raw_name_to_hash(registered_name), account.address).transact().executed()\n",
    "print(f\"Resolve {registered_name}: {w3.cns.address(registered_name)}\")\n",
    "\n",
    "random_subdomain = str(uuid4())\n",
    "full_subdomain = f\"{random_subdomain}.{registered_name}\"\n",
    "wrapper.functions.setSubnodeOwner(raw_name_to_hash(registered_name), random_subdomain, account.address, fuses, wrapperExpiry).transact().executed()\n",
    "wrapper.functions.setResolver(raw_name_to_hash(full_subdomain), resolver.address).transact().executed()\n",
    "resolver.functions.setAddr(raw_name_to_hash(full_subdomain), account.address).transact().executed()\n",
    "print(f\"Resolve {full_subdomain}: {w3.cns.address(full_subdomain)}\")"
   ]
  },
  {
   "cell_type": "code",
   "execution_count": null,
   "metadata": {},
   "outputs": [],
   "source": [
    "# or you can manually enable write apis\n",
    "# only `setup_owner` and `setup_address` are available\n",
    "w3.cns.allow_unstable_api = True\n",
    "# tx_hash = w3.cns.setup_address(registered_name, account.address, wrapped=True)\n",
    "# assert tx_hash is not None\n",
    "# tx_hash.executed()\n",
    "# assert w3.cns.address(registered_name) == account.address\n",
    "# print(f\"Resolve {registered_name}: {w3.cns.address(registered_name)}\")\n",
    "\n",
    "# set subdomain\n",
    "random_subdomain = str(uuid4())\n",
    "full_subdomain = f\"{random_subdomain}.{registered_name}\"\n",
    "w3.cns.setup_address(full_subdomain, account.address, wrapped=True).executed()\n",
    "assert w3.cns.address(full_subdomain) == account.address\n",
    "print(f\"Resolve {full_subdomain}: {w3.cns.address(full_subdomain)}\")\n"
   ]
  }
 ],
 "metadata": {
  "kernelspec": {
   "display_name": "Python 3.9.13 ('venv': venv)",
   "language": "python",
   "name": "python3"
  },
  "language_info": {
   "codemirror_mode": {
    "name": "ipython",
    "version": 3
   },
   "file_extension": ".py",
   "mimetype": "text/x-python",
   "name": "python",
   "nbconvert_exporter": "python",
   "pygments_lexer": "ipython3",
   "version": "3.9.13"
  },
  "orig_nbformat": 4,
  "vscode": {
   "interpreter": {
    "hash": "aef0987957a194ff901c8a0e7973f886d5f6ebf4ea1ec9fe98a07c31ef831750"
   }
  }
 },
 "nbformat": 4,
 "nbformat_minor": 2
}
