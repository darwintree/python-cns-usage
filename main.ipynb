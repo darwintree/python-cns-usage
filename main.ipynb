{
 "cells": [
  {
   "cell_type": "code",
   "execution_count": 1,
   "metadata": {},
   "outputs": [],
   "source": [
    "from conflux_web3.dev import get_testnet_web3\n",
    "from cns import CNS\n",
    "from conflux_web3.types import Drip\n",
    "from ens.utils import raw_name_to_hash\n",
    "from hexbytes import HexBytes\n",
    "from typing import get_type_hints\n",
    "from uuid import uuid4\n",
    "import time\n",
    "import os\n",
    "\n"
   ]
  },
  {
   "cell_type": "code",
   "execution_count": 2,
   "metadata": {},
   "outputs": [],
   "source": [
    "# initialize variables\n",
    "w3 = get_testnet_web3()\n",
    "sk = os.environ.get(\"TESTNET_SECRET\", None)\n",
    "if sk:\n",
    "    account = w3.account.from_key(sk)\n",
    "    w3.cfx.default_account = account\n",
    "else:\n",
    "    account = w3.account.create()\n",
    "    w3.cfx.default_account = account\n",
    "    faucet = w3.cfx.contract(name=\"Faucet\")\n",
    "    faucet.functions.claimCfx().transact().executed()"
   ]
  },
  {
   "cell_type": "code",
   "execution_count": 3,
   "metadata": {},
   "outputs": [],
   "source": [
    "ens_registry = w3.cns.ens\n",
    "controller = w3.cfx.contract(address=\"cfxtest:aca1858y5a9fnyx9rxd1c9knr517cd0e6afzzhgj01\", name=\"ETHRegistrarController\")\n",
    "wrapper = w3.cfx.contract(\"cfxtest:acapc3y2j7atme3bawvaex18hs36tn40uu5h6j3mtu\", name=\"NameWrapper\")\n",
    "resolver = w3.cfx.contract(\"cfxtest:acbfyf69zaxau5a23w10dgyrmb0hrz4p9pewn6sejp\", name=\"RESOLVER\")"
   ]
  },
  {
   "cell_type": "code",
   "execution_count": 5,
   "metadata": {},
   "outputs": [
    {
     "name": "stdout",
     "output_type": "stream",
     "text": [
      "name example-contract.web3 is registered\n"
     ]
    }
   ],
   "source": [
    "# register a random domain using web3controller\n",
    "# ens_name = str(uuid4())\n",
    "ens_name = \"example-contract\"\n",
    "duration = 60 * 60 * 24 * 30 * 12\n",
    "secret = w3.keccak(text=\"114514\")\n",
    "# resolver = w3.cfx.address.zero_address(1)\n",
    "resolver_address = resolver.address\n",
    "data = []\n",
    "fuses = 0\n",
    "wrapperExpiry = 2**64-1\n",
    "reverse = False\n",
    "\n",
    "commitment = controller.functions.makeCommitment(\n",
    "    ens_name, str(account.address), duration, secret, resolver_address, data, reverse, fuses, \n",
    "    # wrapperExpiry\n",
    ").call()\n",
    "price = Drip(controller.caller.rentPrice(ens_name, 60 * 60 * 24 * 30 * 12)[0]).to(\"CFX\") + Drip(20)\n",
    "receipt = controller.functions.commit(commitment).transact().executed()\n",
    "time.sleep(30)\n",
    "try:\n",
    "    controller.functions.register(\n",
    "        ens_name, str(account.address), duration, secret, resolver_address, data, reverse, fuses, \n",
    "        # wrapperExpiry\n",
    "    ).transact({\n",
    "        \"value\": price,\n",
    "    }).executed()\n",
    "    print(f\"name {ens_name}.web3 is registered\")\n",
    "except Exception as e:\n",
    "    print(e)"
   ]
  },
  {
   "cell_type": "code",
   "execution_count": 13,
   "metadata": {},
   "outputs": [
    {
     "name": "stdout",
     "output_type": "stream",
     "text": [
      "raw owner: CFXTEST:TYPE.NULL:AAAAAAAAAAAAAAAAAAAAAAAAAAAAAAAAAA6F0VRCSW\n"
     ]
    },
    {
     "ename": "Base32AddressNotMatch",
     "evalue": "expected an address of contract type or builtin typereceives CFXTEST:TYPE.NULL:AAAAAAAAAAAAAAAAAAAAAAAAAAAAAAAAAA6F0VRCSW of null",
     "output_type": "error",
     "traceback": [
      "\u001b[0;31m---------------------------------------------------------------------------\u001b[0m",
      "\u001b[0;31mBase32AddressNotMatch\u001b[0m                     Traceback (most recent call last)",
      "\u001b[1;32m/Users/conflux-y/Documents/code/cns-usage/main.ipynb 单元格 7\u001b[0m in \u001b[0;36m<cell line: 3>\u001b[0;34m()\u001b[0m\n\u001b[1;32m      <a href='vscode-notebook-cell:/Users/conflux-y/Documents/code/cns-usage/main.ipynb#W4sZmlsZQ%3D%3D?line=0'>1</a>\u001b[0m registered_name \u001b[39m=\u001b[39m \u001b[39mf\u001b[39m\u001b[39m\"\u001b[39m\u001b[39m{\u001b[39;00mens_name\u001b[39m}\u001b[39;00m\u001b[39m.web3\u001b[39m\u001b[39m\"\u001b[39m\n\u001b[1;32m      <a href='vscode-notebook-cell:/Users/conflux-y/Documents/code/cns-usage/main.ipynb#W4sZmlsZQ%3D%3D?line=1'>2</a>\u001b[0m \u001b[39mprint\u001b[39m(\u001b[39mf\u001b[39m\u001b[39m\"\u001b[39m\u001b[39mraw owner: \u001b[39m\u001b[39m{\u001b[39;00mw3\u001b[39m.\u001b[39mcns\u001b[39m.\u001b[39mowner(registered_name)\u001b[39m}\u001b[39;00m\u001b[39m\"\u001b[39m)\n\u001b[0;32m----> <a href='vscode-notebook-cell:/Users/conflux-y/Documents/code/cns-usage/main.ipynb#W4sZmlsZQ%3D%3D?line=2'>3</a>\u001b[0m \u001b[39mprint\u001b[39m(\u001b[39mf\u001b[39m\u001b[39m\"\u001b[39m\u001b[39mowner from name wrapper: \u001b[39m\u001b[39m{\u001b[39;00mw3\u001b[39m.\u001b[39mcns\u001b[39m.\u001b[39mowner(registered_name, wrapped\u001b[39m=\u001b[39m\u001b[39mTrue\u001b[39;00m)\u001b[39m}\u001b[39;00m\u001b[39m\"\u001b[39m)\n",
      "File \u001b[0;32m~/Documents/code/python-conflux-sdk/build/__editable__.conflux_web3-1.0.0-py3-none-any/cns/cns.py:124\u001b[0m, in \u001b[0;36mCNS.owner\u001b[0;34m(self, name, wrapped)\u001b[0m\n\u001b[1;32m    122\u001b[0m \u001b[39mif\u001b[39;00m \u001b[39mnot\u001b[39;00m wrapped:\n\u001b[1;32m    123\u001b[0m     \u001b[39mreturn\u001b[39;00m owner\n\u001b[0;32m--> 124\u001b[0m \u001b[39mreturn\u001b[39;00m \u001b[39mself\u001b[39;49m\u001b[39m.\u001b[39;49m_owner_from_name_wrapper(owner, name)\n",
      "File \u001b[0;32m~/Documents/code/python-conflux-sdk/build/__editable__.conflux_web3-1.0.0-py3-none-any/cns/cns.py:272\u001b[0m, in \u001b[0;36mCNS._owner_from_name_wrapper\u001b[0;34m(self, address, name)\u001b[0m\n\u001b[1;32m    271\u001b[0m \u001b[39mdef\u001b[39;00m \u001b[39m_owner_from_name_wrapper\u001b[39m(\u001b[39mself\u001b[39m, address: Base32Address, name: \u001b[39mstr\u001b[39m) \u001b[39m-\u001b[39m\u001b[39m>\u001b[39m Base32Address:\n\u001b[0;32m--> 272\u001b[0m     name_wrapper \u001b[39m=\u001b[39m \u001b[39mself\u001b[39;49m\u001b[39m.\u001b[39;49m_name_wrapper_contract(address)\n\u001b[1;32m    273\u001b[0m     \u001b[39mtry\u001b[39;00m:\n\u001b[1;32m    274\u001b[0m         \u001b[39mreturn\u001b[39;00m name_wrapper\u001b[39m.\u001b[39mcaller\u001b[39m.\u001b[39mownerOf(\n\u001b[1;32m    275\u001b[0m             \u001b[39mint\u001b[39m\u001b[39m.\u001b[39mfrom_bytes(raw_name_to_hash(name), \u001b[39m\"\u001b[39m\u001b[39mbig\u001b[39m\u001b[39m\"\u001b[39m)\n\u001b[1;32m    276\u001b[0m         )\n",
      "File \u001b[0;32m~/Documents/code/python-conflux-sdk/build/__editable__.conflux_web3-1.0.0-py3-none-any/conflux_web3/contract/__init__.py:116\u001b[0m, in \u001b[0;36mConfluxContract.__init__\u001b[0;34m(self, address)\u001b[0m\n\u001b[1;32m    114\u001b[0m     address \u001b[39m=\u001b[39m Base32Address(address, \u001b[39mself\u001b[39m\u001b[39m.\u001b[39mw3\u001b[39m.\u001b[39mcfx\u001b[39m.\u001b[39mchain_id)\n\u001b[1;32m    115\u001b[0m     \u001b[39mif\u001b[39;00m address\u001b[39m.\u001b[39maddress_type \u001b[39m!=\u001b[39m \u001b[39m\"\u001b[39m\u001b[39mcontract\u001b[39m\u001b[39m\"\u001b[39m \u001b[39mand\u001b[39;00m address\u001b[39m.\u001b[39maddress_type \u001b[39m!=\u001b[39m \u001b[39m\"\u001b[39m\u001b[39mbuiltin\u001b[39m\u001b[39m\"\u001b[39m:\n\u001b[0;32m--> 116\u001b[0m         \u001b[39mraise\u001b[39;00m Base32AddressNotMatch(\u001b[39mf\u001b[39m\u001b[39m\"\u001b[39m\u001b[39mexpected an address of contract type or builtin type\u001b[39m\u001b[39m\"\u001b[39m\n\u001b[1;32m    117\u001b[0m                                     \u001b[39mf\u001b[39m\u001b[39m\"\u001b[39m\u001b[39mreceives \u001b[39m\u001b[39m{\u001b[39;00maddress\u001b[39m}\u001b[39;00m\u001b[39m of \u001b[39m\u001b[39m{\u001b[39;00maddress\u001b[39m.\u001b[39maddress_type\u001b[39m}\u001b[39;00m\u001b[39m\"\u001b[39m)\n\u001b[1;32m    118\u001b[0m     \u001b[39mself\u001b[39m\u001b[39m.\u001b[39maddress \u001b[39m=\u001b[39m Base32Address(address, \u001b[39mself\u001b[39m\u001b[39m.\u001b[39mw3\u001b[39m.\u001b[39mcfx\u001b[39m.\u001b[39mchain_id, verbose\u001b[39m=\u001b[39m\u001b[39mTrue\u001b[39;00m)\n\u001b[1;32m    120\u001b[0m \u001b[39mif\u001b[39;00m \u001b[39mnot\u001b[39;00m \u001b[39mself\u001b[39m\u001b[39m.\u001b[39maddress:\n",
      "\u001b[0;31mBase32AddressNotMatch\u001b[0m: expected an address of contract type or builtin typereceives CFXTEST:TYPE.NULL:AAAAAAAAAAAAAAAAAAAAAAAAAAAAAAAAAA6F0VRCSW of null"
     ]
    }
   ],
   "source": [
    "registered_name = f\"{ens_name}.web3\"\n",
    "print(f\"raw owner: {w3.cns.owner(registered_name)}\")\n",
    "print(f\"owner from name wrapper: {w3.cns.owner(registered_name, wrapped=True)}\")"
   ]
  },
  {
   "cell_type": "code",
   "execution_count": 6,
   "metadata": {},
   "outputs": [
    {
     "name": "stdout",
     "output_type": "stream",
     "text": [
      "Resolve 7f06ee88-8af0-4bf1-9369-0bf1a320b7bf.web3: None\n",
      "Resolve 7f06ee88-8af0-4bf1-9369-0bf1a320b7bf.web3: CFXTEST:TYPE.USER:AATBN3U60J4T8MWZS73KVV2GY3ZFBCCKTJKWJR00R6\n",
      "Resolve a9f92752-694a-4afa-9ff6-36dc04ec393f.7f06ee88-8af0-4bf1-9369-0bf1a320b7bf.web3: CFXTEST:TYPE.USER:AATBN3U60J4T8MWZS73KVV2GY3ZFBCCKTJKWJR00R6\n"
     ]
    }
   ],
   "source": [
    "# cns write apis are still unstable, it is recommended to interact with the contracts\n",
    "print(f\"Resolve {registered_name}: {w3.cns.address(registered_name)}\")\n",
    "resolver.functions.setAddr(raw_name_to_hash(registered_name), account.address).transact().executed()\n",
    "print(f\"Resolve {registered_name}: {w3.cns.address(registered_name)}\")\n",
    "\n",
    "random_subdomain = str(uuid4())\n",
    "full_subdomain = f\"{random_subdomain}.{registered_name}\"\n",
    "wrapper.functions.setSubnodeOwner(raw_name_to_hash(registered_name), random_subdomain, account.address, fuses, wrapperExpiry).transact().executed()\n",
    "wrapper.functions.setResolver(raw_name_to_hash(full_subdomain), resolver.address).transact().executed()\n",
    "resolver.functions.setAddr(raw_name_to_hash(full_subdomain), account.address).transact().executed()\n",
    "print(f\"Resolve {full_subdomain}: {w3.cns.address(full_subdomain)}\")"
   ]
  },
  {
   "cell_type": "code",
   "execution_count": 7,
   "metadata": {},
   "outputs": [
    {
     "name": "stdout",
     "output_type": "stream",
     "text": [
      "Resolve 13864764-1f6f-4731-9fa8-5a6a6a5096bc.7f06ee88-8af0-4bf1-9369-0bf1a320b7bf.web3: CFXTEST:TYPE.USER:AATBN3U60J4T8MWZS73KVV2GY3ZFBCCKTJKWJR00R6\n"
     ]
    }
   ],
   "source": [
    "# or you can manually enable write apis\n",
    "# only `setup_owner` and `setup_address` are available\n",
    "w3.cns.allow_unstable_api = True\n",
    "# tx_hash = w3.cns.setup_address(registered_name, account.address, wrapped=True)\n",
    "# assert tx_hash is not None\n",
    "# tx_hash.executed()\n",
    "# assert w3.cns.address(registered_name) == account.address\n",
    "# print(f\"Resolve {registered_name}: {w3.cns.address(registered_name)}\")\n",
    "\n",
    "# set subdomain\n",
    "random_subdomain = str(uuid4())\n",
    "full_subdomain = f\"{random_subdomain}.{registered_name}\"\n",
    "w3.cns.setup_address(full_subdomain, account.address, wrapped=True).executed()\n",
    "assert w3.cns.address(full_subdomain) == account.address\n",
    "print(f\"Resolve {full_subdomain}: {w3.cns.address(full_subdomain)}\")\n"
   ]
  }
 ],
 "metadata": {
  "kernelspec": {
   "display_name": "sdk",
   "language": "python",
   "name": "python3"
  },
  "language_info": {
   "codemirror_mode": {
    "name": "ipython",
    "version": 3
   },
   "file_extension": ".py",
   "mimetype": "text/x-python",
   "name": "python",
   "nbconvert_exporter": "python",
   "pygments_lexer": "ipython3",
   "version": "3.9.13"
  },
  "orig_nbformat": 4,
  "vscode": {
   "interpreter": {
    "hash": "a3057bbf184bca29acc6a0538c16f383babaf4f383bee8205e8e826137244d0e"
   }
  }
 },
 "nbformat": 4,
 "nbformat_minor": 2
}
